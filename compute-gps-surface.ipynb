version https://git-lfs.github.com/spec/v1
oid sha256:fe0d793e5afd7bec2509667ad61aa1a4987bd1250ac86c6888f91ffdc78e57e9
size 3492193
