{
 "cells": [
  {
   "cell_type": "markdown",
   "metadata": {},
   "source": [
    "# Explore weather data"
   ]
  },
  {
   "cell_type": "code",
   "execution_count": 1,
   "metadata": {},
   "outputs": [],
   "source": [
    "import netCDF4\n",
    "import numpy as np\n",
    "from netCDF4 import num2date, date2num, date2index"
   ]
  },
  {
   "cell_type": "markdown",
   "metadata": {},
   "source": [
    "## Chargement de données"
   ]
  },
  {
   "cell_type": "code",
   "execution_count": 25,
   "metadata": {},
   "outputs": [
    {
     "name": "stdout",
     "output_type": "stream",
     "text": [
      "<class 'netCDF4._netCDF4.Dataset'>\n",
      "root group (NETCDF3_CLASSIC data model, file format NETCDF3):\n",
      "    dimensions(sizes): longitude(135), latitude(92), time(55520)\n",
      "    variables(dimensions): float64 longitude(longitude), float64 latitude(latitude), float64 time(time), float32 ws100m(time,latitude,longitude)\n",
      "    groups: \n"
     ]
    }
   ],
   "source": [
    "f = netCDF4.Dataset('./data/weather/H_ERAI_ECMW_T159_WS-_0100m_Euro_22W27N_45E72N_050d_IN_TIM_19790101_20161231_06h_NA-_wbc_org_NA_NA-.nc')\n",
    "print(f)"
   ]
  },
  {
   "cell_type": "code",
   "execution_count": 3,
   "metadata": {},
   "outputs": [
    {
     "data": {
      "text/plain": [
       "OrderedDict([('longitude', <class 'netCDF4._netCDF4.Variable'>\n",
       "              float64 longitude(longitude)\n",
       "                  units: degrees_east\n",
       "                  long_name: longitude\n",
       "              unlimited dimensions: \n",
       "              current shape = (135,)\n",
       "              filling on, default _FillValue of 9.969209968386869e+36 used),\n",
       "             ('latitude', <class 'netCDF4._netCDF4.Variable'>\n",
       "              float64 latitude(latitude)\n",
       "                  units: degrees_north\n",
       "                  long_name: latitude\n",
       "              unlimited dimensions: \n",
       "              current shape = (92,)\n",
       "              filling on, default _FillValue of 9.969209968386869e+36 used),\n",
       "             ('time', <class 'netCDF4._netCDF4.Variable'>\n",
       "              float64 time(time)\n",
       "                  units: hours since 1900-01-01 00:00:0.0\n",
       "                  long_name: time\n",
       "                  calendar: gregorian\n",
       "              unlimited dimensions: \n",
       "              current shape = (55520,)\n",
       "              filling on, default _FillValue of 9.969209968386869e+36 used),\n",
       "             ('ws100m', <class 'netCDF4._netCDF4.Variable'>\n",
       "              float32 ws100m(time, latitude, longitude)\n",
       "                  units: m/s\n",
       "                  _FillValue: -9999.0\n",
       "                  long_name: Wind Speed 100m\n",
       "              unlimited dimensions: \n",
       "              current shape = (55520, 92, 135)\n",
       "              filling on)])"
      ]
     },
     "execution_count": 3,
     "metadata": {},
     "output_type": "execute_result"
    }
   ],
   "source": [
    "f.variables"
   ]
  },
  {
   "cell_type": "markdown",
   "metadata": {},
   "source": [
    "## Exploration de données"
   ]
  },
  {
   "cell_type": "code",
   "execution_count": 4,
   "metadata": {},
   "outputs": [
    {
     "name": "stdout",
     "output_type": "stream",
     "text": [
      "starting date = 1979-01-01 00:00:00\n",
      "starting date = 1979-01-01 06:00:00\n",
      "ending date = 2016-12-31 18:00:00\n"
     ]
    }
   ],
   "source": [
    "times = f.variables['time']\n",
    "dates = num2date(times[:],times.units)\n",
    "print('starting date = %s' % dates[0])\n",
    "print('starting date = %s' % dates[1])\n",
    "print('ending date = %s'% dates[-1])"
   ]
  },
  {
   "cell_type": "code",
   "execution_count": 5,
   "metadata": {},
   "outputs": [
    {
     "data": {
      "text/plain": [
       "masked_array(data=[692496., 692502., 692508., 692514., 692520., 692526.,\n",
       "                   692532., 692538., 692544., 692550.],\n",
       "             mask=False,\n",
       "       fill_value=1e+20)"
      ]
     },
     "execution_count": 5,
     "metadata": {},
     "output_type": "execute_result"
    }
   ],
   "source": [
    "f.variables[\"time\"][0:10]"
   ]
  },
  {
   "cell_type": "code",
   "execution_count": 28,
   "metadata": {},
   "outputs": [
    {
     "data": {
      "text/plain": [
       "masked_array(data=[-21.75, -21.25, -20.75, -20.25, -19.75, -19.25, -18.75,\n",
       "                   -18.25, -17.75, -17.25, -16.75, -16.25, -15.75, -15.25,\n",
       "                   -14.75, -14.25, -13.75, -13.25, -12.75, -12.25, -11.75,\n",
       "                   -11.25, -10.75, -10.25,  -9.75,  -9.25,  -8.75,  -8.25,\n",
       "                    -7.75,  -7.25,  -6.75,  -6.25,  -5.75,  -5.25,  -4.75,\n",
       "                    -4.25,  -3.75,  -3.25,  -2.75,  -2.25,  -1.75,  -1.25,\n",
       "                    -0.75,  -0.25,   0.25,   0.75,   1.25,   1.75,   2.25,\n",
       "                     2.75,   3.25,   3.75,   4.25,   4.75,   5.25,   5.75,\n",
       "                     6.25,   6.75,   7.25,   7.75,   8.25,   8.75,   9.25,\n",
       "                     9.75,  10.25,  10.75,  11.25,  11.75,  12.25,  12.75,\n",
       "                    13.25,  13.75,  14.25,  14.75,  15.25,  15.75,  16.25,\n",
       "                    16.75,  17.25,  17.75,  18.25,  18.75,  19.25,  19.75,\n",
       "                    20.25,  20.75,  21.25,  21.75,  22.25,  22.75,  23.25,\n",
       "                    23.75,  24.25,  24.75,  25.25,  25.75,  26.25,  26.75,\n",
       "                    27.25,  27.75,  28.25,  28.75,  29.25,  29.75,  30.25,\n",
       "                    30.75,  31.25,  31.75,  32.25,  32.75,  33.25,  33.75,\n",
       "                    34.25,  34.75,  35.25,  35.75,  36.25,  36.75,  37.25,\n",
       "                    37.75,  38.25,  38.75,  39.25,  39.75,  40.25,  40.75,\n",
       "                    41.25,  41.75,  42.25,  42.75,  43.25,  43.75,  44.25,\n",
       "                    44.75,  45.25],\n",
       "             mask=False,\n",
       "       fill_value=1e+20)"
      ]
     },
     "execution_count": 28,
     "metadata": {},
     "output_type": "execute_result"
    }
   ],
   "source": [
    "f.variables[\"longitude\"][:]"
   ]
  },
  {
   "cell_type": "code",
   "execution_count": 29,
   "metadata": {},
   "outputs": [
    {
     "data": {
      "text/plain": [
       "masked_array(data=[72.25, 71.75, 71.25, 70.75, 70.25, 69.75, 69.25, 68.75,\n",
       "                   68.25, 67.75, 67.25, 66.75, 66.25, 65.75, 65.25, 64.75,\n",
       "                   64.25, 63.75, 63.25, 62.75, 62.25, 61.75, 61.25, 60.75,\n",
       "                   60.25, 59.75, 59.25, 58.75, 58.25, 57.75, 57.25, 56.75,\n",
       "                   56.25, 55.75, 55.25, 54.75, 54.25, 53.75, 53.25, 52.75,\n",
       "                   52.25, 51.75, 51.25, 50.75, 50.25, 49.75, 49.25, 48.75,\n",
       "                   48.25, 47.75, 47.25, 46.75, 46.25, 45.75, 45.25, 44.75,\n",
       "                   44.25, 43.75, 43.25, 42.75, 42.25, 41.75, 41.25, 40.75,\n",
       "                   40.25, 39.75, 39.25, 38.75, 38.25, 37.75, 37.25, 36.75,\n",
       "                   36.25, 35.75, 35.25, 34.75, 34.25, 33.75, 33.25, 32.75,\n",
       "                   32.25, 31.75, 31.25, 30.75, 30.25, 29.75, 29.25, 28.75,\n",
       "                   28.25, 27.75, 27.25, 26.75],\n",
       "             mask=False,\n",
       "       fill_value=1e+20)"
      ]
     },
     "execution_count": 29,
     "metadata": {},
     "output_type": "execute_result"
    }
   ],
   "source": [
    "f.variables[\"latitude\"][:]"
   ]
  },
  {
   "cell_type": "code",
   "execution_count": 6,
   "metadata": {},
   "outputs": [
    {
     "data": {
      "text/plain": [
       "<class 'netCDF4._netCDF4.Variable'>\n",
       "float32 ws100m(time, latitude, longitude)\n",
       "    units: m/s\n",
       "    _FillValue: -9999.0\n",
       "    long_name: Wind Speed 100m\n",
       "unlimited dimensions: \n",
       "current shape = (55520, 92, 135)\n",
       "filling on"
      ]
     },
     "execution_count": 6,
     "metadata": {},
     "output_type": "execute_result"
    }
   ],
   "source": [
    "f.variables[\"ws100m\"]"
   ]
  },
  {
   "cell_type": "code",
   "execution_count": 36,
   "metadata": {},
   "outputs": [
    {
     "data": {
      "text/plain": [
       "-9999.0"
      ]
     },
     "execution_count": 36,
     "metadata": {},
     "output_type": "execute_result"
    }
   ],
   "source": [
    "f.variables[\"ws100m\"][0:1].data[0][0][0]"
   ]
  },
  {
   "cell_type": "code",
   "execution_count": 38,
   "metadata": {},
   "outputs": [
    {
     "data": {
      "text/plain": [
       "array([[[ True,  True,  True, ...,  True,  True,  True],\n",
       "        [ True,  True,  True, ...,  True,  True,  True],\n",
       "        [ True,  True,  True, ...,  True,  True,  True],\n",
       "        ...,\n",
       "        [ True,  True,  True, ..., False, False, False],\n",
       "        [ True,  True,  True, ..., False, False, False],\n",
       "        [ True,  True,  True, ..., False, False, False]]])"
      ]
     },
     "execution_count": 38,
     "metadata": {},
     "output_type": "execute_result"
    }
   ],
   "source": [
    "f.variables[\"ws100m\"][0:1].mask"
   ]
  },
  {
   "cell_type": "code",
   "execution_count": null,
   "metadata": {},
   "outputs": [],
   "source": []
  },
  {
   "cell_type": "code",
   "execution_count": null,
   "metadata": {},
   "outputs": [],
   "source": []
  },
  {
   "cell_type": "code",
   "execution_count": null,
   "metadata": {},
   "outputs": [],
   "source": []
  },
  {
   "cell_type": "code",
   "execution_count": null,
   "metadata": {},
   "outputs": [],
   "source": []
  },
  {
   "cell_type": "code",
   "execution_count": null,
   "metadata": {},
   "outputs": [],
   "source": []
  },
  {
   "cell_type": "code",
   "execution_count": null,
   "metadata": {},
   "outputs": [],
   "source": []
  },
  {
   "cell_type": "code",
   "execution_count": null,
   "metadata": {},
   "outputs": [],
   "source": []
  }
 ],
 "metadata": {
  "kernelspec": {
   "display_name": "Python 3",
   "language": "python",
   "name": "python3"
  },
  "language_info": {
   "codemirror_mode": {
    "name": "ipython",
    "version": 3
   },
   "file_extension": ".py",
   "mimetype": "text/x-python",
   "name": "python",
   "nbconvert_exporter": "python",
   "pygments_lexer": "ipython3",
   "version": "3.6.9"
  }
 },
 "nbformat": 4,
 "nbformat_minor": 2
}
